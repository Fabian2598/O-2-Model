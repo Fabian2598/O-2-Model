{
 "cells": [
  {
   "cell_type": "code",
   "execution_count": null,
   "id": "31e411ac",
   "metadata": {},
   "outputs": [],
   "source": [
    "import numpy as np"
   ]
  },
  {
   "cell_type": "code",
   "execution_count": null,
   "id": "bded8a94",
   "metadata": {},
   "outputs": [],
   "source": [
    "def samples_mean(dat,bins):\n",
    "    \"\"\"\n",
    "    This program computes the average <x>m i.e.\n",
    "    the average of x without the block \"m\", for each\n",
    "    m = 1,...,M\n",
    "    dat --> Array with the data\n",
    "    bins --> Jackknife blocks\n",
    "    \"\"\"\n",
    "    bins = int(bins)\n",
    "    Smean = np.zeros(bins)\n",
    "    prom = 0\n",
    "    dat_bin = int(len(dat)/bins) \n",
    "    for i in range(bins):\n",
    "        for k in range(bins):\n",
    "            for j in range((k*dat_bin),k*dat_bin + dat_bin):\n",
    "                if k != i:\n",
    "                    prom += dat[j]\n",
    "        prom = prom/(len(dat)-dat_bin)\n",
    "        Smean[i] = prom\n",
    "        prom = 0\n",
    "    return Smean\n",
    "\n",
    "def factors(x):\n",
    "    Fact = []\n",
    "    N = len(x)\n",
    "    for i in range(N):\n",
    "        if N % (i+1) == 0 and (i+1) != 1:\n",
    "            Fact.append(i+1)\n",
    "    return np.array(Fact)\n",
    "\n",
    "def Jerr_v1(dat,bins):\n",
    "    \"\"\"\n",
    "    dat --> Array with the data\n",
    "    bins --> Jackknife blocks\n",
    "    \"\"\"\n",
    "    err = 0\n",
    "    sm = samples_mean(dat,bins) \n",
    "    normal_mean = np.mean(dat)\n",
    "    for m in range(bins):\n",
    "        err += (sm[m] - normal_mean)**2\n",
    "    err = np.sqrt(err*(bins-1)/bins)\n",
    "    return err\n",
    "\n",
    "def Jerr(dat):\n",
    "    Factors = factors(dat)\n",
    "    Errors = []\n",
    "    for i in range(len(Factors)):\n",
    "        Errors.append(Jerr_v1(dat,Factors[i]))\n",
    "    return max(Errors)"
   ]
  }
 ],
 "metadata": {
  "kernelspec": {
   "display_name": "Python 3 (ipykernel)",
   "language": "python",
   "name": "python3"
  },
  "language_info": {
   "codemirror_mode": {
    "name": "ipython",
    "version": 3
   },
   "file_extension": ".py",
   "mimetype": "text/x-python",
   "name": "python",
   "nbconvert_exporter": "python",
   "pygments_lexer": "ipython3",
   "version": "3.9.7"
  }
 },
 "nbformat": 4,
 "nbformat_minor": 5
}
